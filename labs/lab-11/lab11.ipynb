{
 "cells": [
  {
   "cell_type": "markdown",
   "source": [
    "# Lab 11\n",
    "> NPC and Approximation\n",
    "\n",
    "In this lab, we will be focusing on an NPC problem (Nondeterministic Polynomial Complete) and trying to find an\n",
    "approximate solution for it in a faster manner.\n",
    "Specifically, we will be tackling the Set Cover problem.\n",
    "\n",
    "The Set Cover problem is a classic computational problem that can be described as follows:\n",
    "\n",
    "**Input:** A set S which has sets s(i) as its elements such that each s(i) includes some integers between 1 and n.\n",
    "\n",
    "**Output:** Minimum number of subset of elements of S that includes all the numbers between 1 and n.\n",
    "\n",
    "To implement a polynomial time algorithm for this problem, we'll follow these steps:\n",
    "1. Create an empty solution set (selected_subsets).\n",
    "2. While there are still uncovered elements in the range 1 to n:\n",
    "    a. Select the subset s(i) from S with the maximum number of uncovered elements.\n",
    "    b. Add s(i) to the solution set (selected_subsets).\n",
    "    c. Remove the elements of s(i) from the uncovered elements.\n",
    "\n",
    "Our goal is to find an approximate solution for this problem with polynomial time complexity.\n",
    "\n",
    "We will also analyze the time complexity and the quality of the solution obtained by our algorithm.\n",
    "\n",
    "For this purpose, we will be implementing a greedy algorithm.\n"
   ],
   "metadata": {
    "collapsed": false
   }
  },
  {
   "cell_type": "markdown",
   "source": [
    "# Polynomial Time Algorithm\n"
   ],
   "metadata": {
    "collapsed": false
   }
  },
  {
   "cell_type": "code",
   "execution_count": 6,
   "outputs": [],
   "source": [
    "def greedy_set_cover(S, n):\n",
    "    uncovered = set(range(1, n + 1))\n",
    "    selected_subsets = []\n",
    "\n",
    "    while uncovered:\n",
    "        max_subset = None\n",
    "        max_uncovered = set()\n",
    "\n",
    "        for subset in S:\n",
    "            uncovered_subset = subset.intersection(uncovered)\n",
    "            if len(uncovered_subset) > len(max_uncovered):\n",
    "                max_subset = subset\n",
    "                max_uncovered = uncovered_subset\n",
    "\n",
    "        selected_subsets.append(max_subset)\n",
    "        uncovered -= max_uncovered\n",
    "\n",
    "    return selected_subsets\n"
   ],
   "metadata": {
    "collapsed": false
   }
  },
  {
   "cell_type": "markdown",
   "source": [
    "## Example\n"
   ],
   "metadata": {
    "collapsed": false
   }
  },
  {
   "cell_type": "code",
   "execution_count": 7,
   "outputs": [
    {
     "name": "stdout",
     "output_type": "stream",
     "text": [
      "Selected subsets: [{1, 3, 5, 7, 10, 11}, {8, 9, 4}, {2, 10, 6}]\n"
     ]
    }
   ],
   "source": [
    "S = [\n",
    "    {1, 3, 5, 7, 10, 11},\n",
    "    {1, 2, 4, 5, 11},\n",
    "    {4, 8, 9},\n",
    "    {1, 3, 5, 8, 9, 10},\n",
    "    {2, 6, 10}\n",
    "]\n",
    "n = 11\n",
    "\n",
    "# Test\n",
    "selected_subsets = greedy_set_cover(S, n)\n",
    "print(f\"Selected subsets: {selected_subsets}\")"
   ],
   "metadata": {
    "collapsed": false
   }
  },
  {
   "cell_type": "markdown",
   "source": [
    "## Time Complexity\n",
    "\n",
    "The time complexity of the algorithm is O(n * |S|), where n is the maximum integer in the range 1 to n and |S| is the\n",
    "number of subsets in S.\n",
    "\n",
    "The time complexity of the algorithm is polynomial in the size of the input.\n",
    "\n"
   ],
   "metadata": {
    "collapsed": false
   }
  },
  {
   "cell_type": "markdown",
   "source": [
    "# Solution Quality\n",
    "\n",
    "We will be using the approximation ratio to measure the quality of the solution obtained by our algorithm.\n",
    "\n",
    "The approximation ratio is defined as follows:\n",
    "\n",
    "    Approximation Ratio = (Cost of the solution obtained by the algorithm) / (Cost of the optimal solution)\n",
    "\n",
    "The cost of the solution obtained by the algorithm is the number of subsets in the solution set.\n",
    "\n",
    "The cost of the optimal solution is the minimum number of subsets that can cover all the elements in the range 1 to n.\n",
    "\n",
    "The approximation ratio is always greater than or equal to 1.\n",
    "\n",
    "## But\n",
    "\n",
    "To compute the approximation ratio, we need to know the cost of the optimal solution. However the Set Cover problem is\n",
    "an NP-complete and there finding a polynomial time algorithm time algorithm for it can be computationally infeasible.\n",
    "\n",
    "So, we will be using a greedy algorithm to compute the cost of the optimal solution.\n",
    "\n",
    "The theoretical approximation guarentee of the greedy algorithm is H(max(|s(i)|)) where H is the harmonic number and\n",
    "|s(i)| is the number of size of the subsets in S.\n",
    "\n",
    "The harmonic number is defined as follows:\n",
    "\n",
    "    H(n) = 1 + 1/2 + 1/3 + ... + 1/n\n",
    "\n",
    "Let's create a function to calculate the harmonic number and use it to compute the theoretical approximation ratio of\n",
    "our algorithm."
   ],
   "metadata": {
    "collapsed": false
   }
  },
  {
   "cell_type": "code",
   "execution_count": 14,
   "outputs": [],
   "source": [
    "def harmonic_number(n):\n",
    "    return sum(1 / i for i in range(1, n + 1))\n",
    "\n",
    "def compute_approximation_ratio(S):\n",
    "    max_subset_size =max(len(subset) for subset in S)\n",
    "    return harmonic_number(max_subset_size)"
   ],
   "metadata": {
    "collapsed": false
   }
  },
  {
   "cell_type": "code",
   "execution_count": 16,
   "outputs": [
    {
     "name": "stdout",
     "output_type": "stream",
     "text": [
      "Approximation ratio: 2.4499999999999997\n"
     ]
    }
   ],
   "source": [
    "approximation_ratio = compute_approximation_ratio( S)\n",
    "print(f\"Approximation ratio: {approximation_ratio}\")"
   ],
   "metadata": {
    "collapsed": false
   }
  },
  {
   "cell_type": "markdown",
   "source": [
    "# Notes\n",
    "\n",
    "The theoretical approximation ratio gives us a an upper bound on the worse-case performance of our greedy algorithm.\n",
    "In practice, the approximation ratio of the greedy algorithm is much better than the theoretical approximation ratio."
   ],
   "metadata": {
    "collapsed": false
   }
  },
  {
   "cell_type": "code",
   "execution_count": null,
   "outputs": [],
   "source": [],
   "metadata": {
    "collapsed": false
   }
  }
 ],
 "metadata": {
  "kernelspec": {
   "display_name": "Python 3",
   "language": "python",
   "name": "python3"
  },
  "language_info": {
   "codemirror_mode": {
    "name": "ipython",
    "version": 2
   },
   "file_extension": ".py",
   "mimetype": "text/x-python",
   "name": "python",
   "nbconvert_exporter": "python",
   "pygments_lexer": "ipython2",
   "version": "2.7.6"
  }
 },
 "nbformat": 4,
 "nbformat_minor": 0
}
