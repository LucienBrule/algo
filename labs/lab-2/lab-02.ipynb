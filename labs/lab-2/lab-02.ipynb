{
 "cells": [
  {
   "cell_type": "markdown",
   "source": [],
   "metadata": {
    "collapsed": false
   }
  },
  {
   "cell_type": "markdown",
   "source": [
    "# Lab 2: Integer Multiplication\n",
    "\n",
    "TA Assignment in Piazza. Email the Ta.\n",
    "\n",
    "### Method1:\n",
    "\n",
    "Implement the grade-school method as described in the beginning of section 1.1.2.\n",
    "You must use only bit-shift operations to multiply two numbers (use their \"internal\" binary representations).\n",
    "However, you can use regular addition operations on the resulting values.\n"
   ],
   "metadata": {
    "collapsed": false
   }
  },
  {
   "cell_type": "markdown",
   "source": [],
   "metadata": {
    "collapsed": false
   }
  },
  {
   "cell_type": "code",
   "execution_count": 6,
   "outputs": [
    {
     "name": "stdout",
     "output_type": "stream",
     "text": [
      "101000\n"
     ]
    }
   ],
   "source": [
    "def grade_school(x, y):\n",
    "    \"\"\"Grade school method for multiplying two numbers.\n",
    "    You must use only bit-shift operations to multiply two numbers (use their \"internal\" binary representations).\n",
    "    However, you can use regular addition operations on the resulting values.\n",
    "    \"\"\"\n",
    "    result = 0\n",
    "    for i in range(0, x.bit_length()):\n",
    "        if x & (1 << i):\n",
    "            result += (y << i)\n",
    "    return result\n",
    "x = 101\n",
    "y = 1000\n",
    "print(grade_school(x, y))"
   ],
   "metadata": {
    "collapsed": false
   }
  },
  {
   "cell_type": "markdown",
   "source": [
    "\n",
    "### Method2:\n",
    "Implement the recursive algorithm in Fig 1.1.\n",
    "You must use bit shift operations for multiplying and dividing by two,\n",
    "but can use regular integer addition.\n"
   ],
   "metadata": {
    "collapsed": false
   }
  },
  {
   "cell_type": "code",
   "execution_count": 23,
   "outputs": [
    {
     "ename": "RecursionError",
     "evalue": "maximum recursion depth exceeded in comparison",
     "output_type": "error",
     "traceback": [
      "\u001B[0;31m---------------------------------------------------------------------------\u001B[0m",
      "\u001B[0;31mRecursionError\u001B[0m                            Traceback (most recent call last)",
      "Cell \u001B[0;32mIn[23], line 15\u001B[0m\n\u001B[1;32m     12\u001B[0m     P3 \u001B[38;5;241m=\u001B[39m recursive_multiply(xL \u001B[38;5;241m+\u001B[39m xR, yL \u001B[38;5;241m+\u001B[39m yR)\n\u001B[1;32m     13\u001B[0m     \u001B[38;5;28;01mreturn\u001B[39;00m (P1 \u001B[38;5;241m<<\u001B[39m (\u001B[38;5;241m2\u001B[39m \u001B[38;5;241m*\u001B[39m\u001B[38;5;241m*\u001B[39m n)) \u001B[38;5;241m+\u001B[39m ((P3 \u001B[38;5;241m-\u001B[39m P1 \u001B[38;5;241m-\u001B[39m P2) \u001B[38;5;241m<<\u001B[39m \u001B[38;5;241m2\u001B[39m\u001B[38;5;241m*\u001B[39m\u001B[38;5;241m*\u001B[39m(n\u001B[38;5;241m/\u001B[39m\u001B[38;5;241m2\u001B[39m)) \u001B[38;5;241m+\u001B[39m P2\n\u001B[0;32m---> 15\u001B[0m \u001B[43mrecursive_multiply\u001B[49m\u001B[43m(\u001B[49m\u001B[38;5;241;43m2\u001B[39;49m\u001B[43m,\u001B[49m\u001B[43m \u001B[49m\u001B[38;5;241;43m10000\u001B[39;49m\u001B[43m)\u001B[49m\n",
      "Cell \u001B[0;32mIn[23], line 10\u001B[0m, in \u001B[0;36mrecursive_multiply\u001B[0;34m(x, y)\u001B[0m\n\u001B[1;32m      8\u001B[0m yL \u001B[38;5;241m=\u001B[39m y \u001B[38;5;241m>>\u001B[39m n\n\u001B[1;32m      9\u001B[0m yR \u001B[38;5;241m=\u001B[39m y \u001B[38;5;241m&\u001B[39m (\u001B[38;5;241m2\u001B[39m \u001B[38;5;241m*\u001B[39m\u001B[38;5;241m*\u001B[39m n \u001B[38;5;241m-\u001B[39m \u001B[38;5;241m1\u001B[39m)\n\u001B[0;32m---> 10\u001B[0m P1 \u001B[38;5;241m=\u001B[39m \u001B[43mrecursive_multiply\u001B[49m\u001B[43m(\u001B[49m\u001B[43mxL\u001B[49m\u001B[43m,\u001B[49m\u001B[43m \u001B[49m\u001B[43myL\u001B[49m\u001B[43m)\u001B[49m\n\u001B[1;32m     11\u001B[0m P2 \u001B[38;5;241m=\u001B[39m recursive_multiply(xR, yR)\n\u001B[1;32m     12\u001B[0m P3 \u001B[38;5;241m=\u001B[39m recursive_multiply(xL \u001B[38;5;241m+\u001B[39m xR, yL \u001B[38;5;241m+\u001B[39m yR)\n",
      "Cell \u001B[0;32mIn[23], line 10\u001B[0m, in \u001B[0;36mrecursive_multiply\u001B[0;34m(x, y)\u001B[0m\n\u001B[1;32m      8\u001B[0m yL \u001B[38;5;241m=\u001B[39m y \u001B[38;5;241m>>\u001B[39m n\n\u001B[1;32m      9\u001B[0m yR \u001B[38;5;241m=\u001B[39m y \u001B[38;5;241m&\u001B[39m (\u001B[38;5;241m2\u001B[39m \u001B[38;5;241m*\u001B[39m\u001B[38;5;241m*\u001B[39m n \u001B[38;5;241m-\u001B[39m \u001B[38;5;241m1\u001B[39m)\n\u001B[0;32m---> 10\u001B[0m P1 \u001B[38;5;241m=\u001B[39m \u001B[43mrecursive_multiply\u001B[49m\u001B[43m(\u001B[49m\u001B[43mxL\u001B[49m\u001B[43m,\u001B[49m\u001B[43m \u001B[49m\u001B[43myL\u001B[49m\u001B[43m)\u001B[49m\n\u001B[1;32m     11\u001B[0m P2 \u001B[38;5;241m=\u001B[39m recursive_multiply(xR, yR)\n\u001B[1;32m     12\u001B[0m P3 \u001B[38;5;241m=\u001B[39m recursive_multiply(xL \u001B[38;5;241m+\u001B[39m xR, yL \u001B[38;5;241m+\u001B[39m yR)\n",
      "    \u001B[0;31m[... skipping similar frames: recursive_multiply at line 10 (2968 times)]\u001B[0m\n",
      "Cell \u001B[0;32mIn[23], line 10\u001B[0m, in \u001B[0;36mrecursive_multiply\u001B[0;34m(x, y)\u001B[0m\n\u001B[1;32m      8\u001B[0m yL \u001B[38;5;241m=\u001B[39m y \u001B[38;5;241m>>\u001B[39m n\n\u001B[1;32m      9\u001B[0m yR \u001B[38;5;241m=\u001B[39m y \u001B[38;5;241m&\u001B[39m (\u001B[38;5;241m2\u001B[39m \u001B[38;5;241m*\u001B[39m\u001B[38;5;241m*\u001B[39m n \u001B[38;5;241m-\u001B[39m \u001B[38;5;241m1\u001B[39m)\n\u001B[0;32m---> 10\u001B[0m P1 \u001B[38;5;241m=\u001B[39m \u001B[43mrecursive_multiply\u001B[49m\u001B[43m(\u001B[49m\u001B[43mxL\u001B[49m\u001B[43m,\u001B[49m\u001B[43m \u001B[49m\u001B[43myL\u001B[49m\u001B[43m)\u001B[49m\n\u001B[1;32m     11\u001B[0m P2 \u001B[38;5;241m=\u001B[39m recursive_multiply(xR, yR)\n\u001B[1;32m     12\u001B[0m P3 \u001B[38;5;241m=\u001B[39m recursive_multiply(xL \u001B[38;5;241m+\u001B[39m xR, yL \u001B[38;5;241m+\u001B[39m yR)\n",
      "Cell \u001B[0;32mIn[23], line 2\u001B[0m, in \u001B[0;36mrecursive_multiply\u001B[0;34m(x, y)\u001B[0m\n\u001B[1;32m      1\u001B[0m \u001B[38;5;28;01mdef\u001B[39;00m \u001B[38;5;21mrecursive_multiply\u001B[39m(x, y):\n\u001B[0;32m----> 2\u001B[0m     n \u001B[38;5;241m=\u001B[39m \u001B[38;5;28;43mmax\u001B[39;49m\u001B[43m(\u001B[49m\u001B[38;5;28;43mlen\u001B[39;49m\u001B[43m(\u001B[49m\u001B[38;5;28;43mbin\u001B[39;49m\u001B[43m(\u001B[49m\u001B[43mx\u001B[49m\u001B[43m)\u001B[49m\u001B[43m)\u001B[49m\u001B[43m,\u001B[49m\u001B[43m \u001B[49m\u001B[38;5;28;43mlen\u001B[39;49m\u001B[43m(\u001B[49m\u001B[38;5;28;43mbin\u001B[39;49m\u001B[43m(\u001B[49m\u001B[43my\u001B[49m\u001B[43m)\u001B[49m\u001B[43m)\u001B[49m\u001B[43m)\u001B[49m\n\u001B[1;32m      3\u001B[0m     \u001B[38;5;28;01mif\u001B[39;00m x \u001B[38;5;241m==\u001B[39m \u001B[38;5;241m1\u001B[39m \u001B[38;5;129;01mor\u001B[39;00m y \u001B[38;5;241m==\u001B[39m \u001B[38;5;241m1\u001B[39m:\n\u001B[1;32m      4\u001B[0m         \u001B[38;5;28;01mreturn\u001B[39;00m x \u001B[38;5;241m*\u001B[39m y\n",
      "\u001B[0;31mRecursionError\u001B[0m: maximum recursion depth exceeded in comparison"
     ]
    }
   ],
   "source": [
    "def recursive_multiply(x, y):\n",
    "    n = max(len(bin(x)), len(bin(y)))\n",
    "    if x == 1 or y == 1:\n",
    "        return x * y\n",
    "    n = n // 2 + n % 2\n",
    "    xL = x >> n\n",
    "    xR = x & (2 ** n - 1)\n",
    "    yL = y >> n\n",
    "    yR = y & (2 ** n - 1)\n",
    "    P1 = recursive_multiply(xL, yL)\n",
    "    P2 = recursive_multiply(xR, yR)\n",
    "    P3 = recursive_multiply(xL + xR, yL + yR)\n",
    "    return (P1 << (2 ** n)) + ((P3 - P1 - P2) << 2**(n/2)) + P2\n",
    "\n",
    "recursive_multiply(2, 10000)"
   ],
   "metadata": {
    "collapsed": false
   }
  },
  {
   "cell_type": "markdown",
   "source": [
    "\n",
    "### Method3:\n",
    "Implement the divide-and-conquer algorithm in Fig 2.1.\n",
    "Once again use only bit-wise operations for division and shifting,\n",
    "and also for splitting the input numbers into 2 parts.\n",
    "Use regular additions/subtractions on integers for the rest.\n",
    "Do not use any other bitvector/bitarray module.\n",
    "![fig2](./fig-2.1.png)\n",
    "\n"
   ],
   "metadata": {
    "collapsed": false
   }
  },
  {
   "cell_type": "code",
   "execution_count": null,
   "outputs": [],
   "source": [
    "def divide_and_conquer(x, y):\n",
    "    \"\"\"Divide-and-conquer algorithm in Fig 2.1.\n",
    "    Once again use only bit-wise operations for division and shifting,\n",
    "    and also for splitting the input numbers into 2 parts.\n",
    "    Use regular additions/subtractions on integers for the rest. Do not use any other bitvector/bitarray module.\n",
    "    \"\"\"\n",
    "    pass"
   ],
   "metadata": {
    "collapsed": false
   }
  },
  {
   "cell_type": "markdown",
   "source": [
    "### Note\n",
    "\n",
    "Note that this method recurses on the number of bits which reduce in half each time.\n",
    "You can use the python x.bit_length() routine to figure out the number of bits n it takes to represent a given integer x.\n",
    "Also, you may want to make n an input parameter to the algorithm, so the base case check becomes easy.\n",
    "\n",
    "![errata](./errata.png)\n",
    "\n",
    "### What to turn in during lab\n",
    "\n",
    "\n",
    "Your python script should take d, the number of digits, as a command line parameter.\n",
    "\n",
    "You will need to perform r=10 runs\n",
    "to record the average time\n",
    "to multiply two d-digit integers in decimal using the three methods above.\n",
    "\n",
    "For each run generate a random pair of integers x and y,\n",
    "that are d digits long, by using random.randint()\n",
    "or similar python function from the random module.\n",
    "(You can generate d random digits, concatenate them and convert into int).\n",
    "\n",
    "Call Method1, Method2 and Method3 on these inputs and record their running time on each pair.\n",
    "\n",
    "Finally, print the average time for each method over the r=10 runs. Answer the following questions:\n",
    "\n",
    "1. Which method is the fastest? Why? Try different values of d, such as 100, 1000, 10000 and so on to determine the behavior with increasing d.\n",
    "2. What is the largest number of digits d you can use to multiply using each method? Record if one or more method fails to run beyond a certain number of digits and reason why?"
   ],
   "metadata": {
    "collapsed": false
   }
  }
 ],
 "metadata": {
  "kernelspec": {
   "display_name": "Python 3",
   "language": "python",
   "name": "python3"
  },
  "language_info": {
   "codemirror_mode": {
    "name": "ipython",
    "version": 2
   },
   "file_extension": ".py",
   "mimetype": "text/x-python",
   "name": "python",
   "nbconvert_exporter": "python",
   "pygments_lexer": "ipython2",
   "version": "2.7.6"
  }
 },
 "nbformat": 4,
 "nbformat_minor": 0
}
