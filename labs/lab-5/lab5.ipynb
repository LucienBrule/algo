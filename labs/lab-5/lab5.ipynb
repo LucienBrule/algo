{
 "cells": [
  {
   "cell_type": "markdown",
   "source": [
    "# Lab 5\n",
    "> Quick Sort\n",
    "\n",
    "## Instructions:\n",
    "\n",
    "Implement the randomized quick sort algorithm described in section 2.4 in the book.\n",
    "\n",
    "Generate an array of n >100 random integers in the range [0,n−1].\n",
    "\n",
    "You should generate these n integers independently so that you can have duplicate values in the array. Your code should return the sorted array"
   ],
   "metadata": {
    "collapsed": false
   }
  },
  {
   "cell_type": "code",
   "execution_count": 1,
   "outputs": [
    {
     "name": "stdout",
     "output_type": "stream",
     "text": [
      "Requirement already satisfied: numpy in /opt/homebrew/Caskroom/miniconda/base/envs/algo/lib/python3.10/site-packages (1.24.1)\r\n"
     ]
    }
   ],
   "source": [
    "!pip install numpy\n"
   ],
   "metadata": {
    "collapsed": false
   }
  },
  {
   "cell_type": "code",
   "execution_count": 2,
   "outputs": [],
   "source": [
    "import numpy as np"
   ],
   "metadata": {
    "collapsed": false
   }
  },
  {
   "cell_type": "markdown",
   "source": [
    "## Note\n",
    "Lab 4 uses a randomized divide-and-conquer algorithm, called the selection algorithm, to find the k-th smallest element in an unsorted array.\n",
    "\n",
    "Lab 5 uses the randomized quicksort algorithm, which is also a divide-and-conquer algorithm that works by sorting an unsorted array based on a randomly chosen pivot element."
   ],
   "metadata": {
    "collapsed": false
   }
  },
  {
   "cell_type": "markdown",
   "source": [
    "## Quick Sort\n",
    "\n"
   ],
   "metadata": {
    "collapsed": false
   }
  },
  {
   "cell_type": "code",
   "execution_count": 3,
   "outputs": [],
   "source": [
    "def quicksort(arr):\n",
    "    # Base case: empty or single-element array is already sorted\n",
    "    if len(arr) <= 1:\n",
    "        return arr\n",
    "\n",
    "    # Choose a random pivot element from the array\n",
    "    pivot = np.random.choice(arr)\n",
    "\n",
    "    # Partition the array into elements less than and greater than the pivot\n",
    "    left = [x for x in arr if x < pivot]\n",
    "    middle = [x for x in arr if x == pivot]\n",
    "    right = [x for x in arr if x > pivot]\n",
    "\n",
    "    # Recursively sort the left and right subarrays\n",
    "    return quicksort(left) + middle + quicksort(right)\n"
   ],
   "metadata": {
    "collapsed": false
   }
  },
  {
   "cell_type": "markdown",
   "source": [
    "# Testing\n",
    "\n",
    "Generate an array of n >100 random integers in the range [0,n−1].\n",
    "\n",
    "You should generate these n integers independently so that you can have duplicate values in the array. Your code should return the sorted array"
   ],
   "metadata": {
    "collapsed": false
   }
  },
  {
   "cell_type": "code",
   "execution_count": 4,
   "outputs": [],
   "source": [
    "def random_array(n):\n",
    "    return np.random.randint(0, n, n)"
   ],
   "metadata": {
    "collapsed": false
   }
  },
  {
   "cell_type": "code",
   "execution_count": 5,
   "outputs": [
    {
     "name": "stdout",
     "output_type": "stream",
     "text": [
      "Unsorted array:  [ 46 107  55  67  83  46  28  50  14  62  27  94  48  95  73  52  90 111\n",
      " 102  30  81  91  99  77  13  90  19  39 100  72  55  22  60  36 105  46\n",
      " 104 102  15  27  17  69  44  10  43  48   9  58  23  38  41  57  41  73\n",
      "  19  54  56 117  69 102  20  89  36  60  23 112  82 106  64  84  14  81\n",
      "  29  31  96   6   5  51  79  72  81  98  77 119  95  77  49  30  36  63\n",
      "  64  65 116  69  53  25  81  34 116  85  11  58 110  34  83  49  83 107\n",
      "  96 100  36  55  10  16  54 110  47 106  15 115]\n",
      "Sorted array:  [5, 6, 9, 10, 10, 11, 13, 14, 14, 15, 15, 16, 17, 19, 19, 20, 22, 23, 23, 25, 27, 27, 28, 29, 30, 30, 31, 34, 34, 36, 36, 36, 36, 38, 39, 41, 41, 43, 44, 46, 46, 46, 47, 48, 48, 49, 49, 50, 51, 52, 53, 54, 54, 55, 55, 55, 56, 57, 58, 58, 60, 60, 62, 63, 64, 64, 65, 67, 69, 69, 69, 72, 72, 73, 73, 77, 77, 77, 79, 81, 81, 81, 81, 82, 83, 83, 83, 84, 85, 89, 90, 90, 91, 94, 95, 95, 96, 96, 98, 99, 100, 100, 102, 102, 102, 104, 105, 106, 106, 107, 107, 110, 110, 111, 112, 115, 116, 116, 117, 119]\n"
     ]
    }
   ],
   "source": [
    "arr = random_array(120)\n",
    "print(\"Unsorted array: \", arr)\n",
    "\n",
    "sorted_arr = quicksort(arr)\n",
    "print(\"Sorted array: \", sorted_arr)\n",
    "\n",
    "assert sorted_arr == sorted(arr)"
   ],
   "metadata": {
    "collapsed": false
   }
  },
  {
   "cell_type": "code",
   "execution_count": null,
   "outputs": [],
   "source": [],
   "metadata": {
    "collapsed": false
   }
  }
 ],
 "metadata": {
  "kernelspec": {
   "display_name": "Python 3",
   "language": "python",
   "name": "python3"
  },
  "language_info": {
   "codemirror_mode": {
    "name": "ipython",
    "version": 2
   },
   "file_extension": ".py",
   "mimetype": "text/x-python",
   "name": "python",
   "nbconvert_exporter": "python",
   "pygments_lexer": "ipython2",
   "version": "2.7.6"
  }
 },
 "nbformat": 4,
 "nbformat_minor": 0
}
