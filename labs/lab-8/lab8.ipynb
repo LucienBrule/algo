{
 "cells": [
  {
   "cell_type": "markdown",
   "source": [
    "# Lab 8\n",
    "> Spanning Trees with specific leaf nodes\n",
    "\n",
    "In this lab, we will implement a special type of spanning tree where a given \\\n",
    "subset of the verticies must be leaf nodes.\n",
    "\n",
    "The problem is defined as follows:\n",
    "\n",
    "**Input:**\n",
    "- An undirected graph G = (V, E)\n",
    "- Edge weights w(e)\n",
    "- A subset U of verticies V\n",
    "\n",
    "**Output:**\n",
    "- A spanning tree with nodes in U as leaf nodes, s/t the total weight of the tree is minimized\n",
    "\n",
    "Our goal is to find an algorithm that runs in O(|E| log |V|) time.\n",
    "\n",
    "We will test our code on the following instasnce of the problem G=(V,E).\n",
    "\n",
    "- V = {A, B, C, D, E, F, G, H, I}\n",
    "- E = {\n",
    "        (A-B, 10),\n",
    "        (A-C, 12),\n",
    "        (B-C, 9),\n",
    "        (B-D, 8),\n",
    "        (C-E, 3),\n",
    "        (C-F, 1),\n",
    "        (D-E, 7),\n",
    "        (D-G, 8),\n",
    "        (D-H, 5),\n",
    "        (E-F, 3),\n",
    "        (F-H, 6),\n",
    "        (G-H, 9),\n",
    "        (G-I, 2),\n",
    "        (H-I, 11)\n",
    "    }\n",
    "where A-B is an edge with weight 10.\n",
    "- U = {A,D,F}\n"
   ],
   "metadata": {
    "collapsed": false
   }
  },
  {
   "cell_type": "code",
   "execution_count": 1,
   "outputs": [],
   "source": [
    "import networkx as nx\n",
    "from networkx.algorithms import tree\n",
    "\n",
    "def create_modified_graph(graph,U):\n",
    "    modified_graph = graph.copy()\n",
    "    U = set(U)\n",
    "    first_U_vertex = U.pop()\n",
    "    for u_vertex in U:\n",
    "        modified_graph.remove_node(u_vertex)\n",
    "    return modified_graph, first_U_vertex\n",
    "\n",
    "def minimum_spanning_tree(graph, U):\n",
    "    modified_graph, first_U_vertex = create_modified_graph(graph,U)\n",
    "    mst = tree.minimum_spanning_edges(modified_graph, algorithm='kruskal', data=True)\n",
    "    mst = list(mst)\n",
    "\n",
    "    for u_vertex in U:\n",
    "        min_weight = float('inf')\n",
    "        min_edge = None\n",
    "        for neighbor in graph.neighbors(u_vertex):\n",
    "\n",
    "            edge_weight = graph[u_vertex][neighbor]['weight']\n",
    "            if edge_weight < min_weight:\n",
    "                min_weight = edge_weight\n",
    "                min_edge = (u_vertex,neighbor, {'weight':edge_weight})\n",
    "            if min_edge:\n",
    "                mst.append(min_edge)\n",
    "    return nx.Graph(mst)"
   ],
   "metadata": {
    "collapsed": false
   }
  },
  {
   "cell_type": "code",
   "execution_count": 3,
   "outputs": [
    {
     "name": "stdout",
     "output_type": "stream",
     "text": [
      "Edges in MST with U:  [('G', 'I', {'weight': 2}), ('G', 'H', {'weight': 9}), ('C', 'E', {'weight': 3}), ('C', 'B', {'weight': 9}), ('C', 'F', {'weight': 1}), ('E', 'D', {'weight': 7}), ('B', 'A', {'weight': 10}), ('B', 'D', {'weight': 8}), ('H', 'D', {'weight': 5})]\n"
     ]
    }
   ],
   "source": [
    "V = ['A', 'B', 'C', 'D', 'E', 'F', 'G', 'H', 'I']\n",
    "E = [\n",
    "    ('A','B',10),\n",
    "    ('A','C',12),\n",
    "    ('B','C',9),\n",
    "    ('B','D',8),\n",
    "    ('C','E',3),\n",
    "    ('C','F',1),\n",
    "    ('D','E',7),\n",
    "    ('D','G',8),\n",
    "    ('D','H',5),\n",
    "    ('E','F',3),\n",
    "    ('F','H',6),\n",
    "    ('G','H',9),\n",
    "    ('G','I',2),\n",
    "    ('H','I',11)\n",
    "\n",
    "]\n",
    "\n",
    "graph = nx.Graph()\n",
    "graph.add_weighted_edges_from(E)\n",
    "U = ['A','D','F']\n",
    "mst_with_U = minimum_spanning_tree(graph,U)\n",
    "print(\"Edges in MST with U: \", mst_with_U.edges(data=True))\n"
   ],
   "metadata": {
    "collapsed": false
   }
  },
  {
   "cell_type": "code",
   "execution_count": 4,
   "outputs": [],
   "source": [],
   "metadata": {
    "collapsed": false
   }
  },
  {
   "cell_type": "code",
   "execution_count": null,
   "outputs": [],
   "source": [],
   "metadata": {
    "collapsed": false,
    "pycharm": {
     "is_executing": true
    }
   }
  },
  {
   "cell_type": "code",
   "execution_count": 4,
   "outputs": [],
   "source": [],
   "metadata": {
    "collapsed": false
   }
  }
 ],
 "metadata": {
  "kernelspec": {
   "display_name": "Python 3",
   "language": "python",
   "name": "python3"
  },
  "language_info": {
   "codemirror_mode": {
    "name": "ipython",
    "version": 2
   },
   "file_extension": ".py",
   "mimetype": "text/x-python",
   "name": "python",
   "nbconvert_exporter": "python",
   "pygments_lexer": "ipython2",
   "version": "2.7.6"
  }
 },
 "nbformat": 4,
 "nbformat_minor": 0
}
