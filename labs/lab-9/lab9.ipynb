{
 "cells": [
  {
   "cell_type": "markdown",
   "source": [
    "# Lab 9\n",
    "> Chain Matrix Multiplication Problem\n",
    "\n",
    "In this lab, we will implement the dynamic programming algorithm to solve the chain matrix multiplication problem with a minimum number of operations. Given a sequence of matrices A_1, …, A_n and their dimensions D_0, …, D_n, where A_i is of dimension D_{i-1} x D_i, our goal is to determine the optimal order of multiplications.\n",
    "\n",
    "We will demonstrate the algorithm on the following input and several others to show that it works:\n",
    "\n",
    "| Matrix | Dimensions |\n",
    "|--------|------------|\n",
    "| A_1    | 10x20      |\n",
    "| A_2    | 20x30      |\n",
    "| A_3    | 30x40      |\n",
    "| A_4    | 40x50      |\n",
    "| A_5    | 50x40      |\n",
    "| A_6    | 40x10      |\n",
    "| A_7    | 10x50      |\n",
    "| A_8    | 50x20      |\n",
    "\n",
    "\n"
   ],
   "metadata": {
    "collapsed": false
   }
  },
  {
   "cell_type": "code",
   "execution_count": 1,
   "outputs": [
    {
     "name": "stdout",
     "output_type": "stream",
     "text": [
      "Minimum number of operations: 72000\n",
      "Optimal order of multiplications:\n",
      "((A_1(A_2(A_3(A_4(A_5A_6)))))(A_7A_8))"
     ]
    }
   ],
   "source": [
    "def chain_matrix_multiplication(dimensions):\n",
    "    n = len(dimensions) - 1\n",
    "    dp = [[0 for _ in range(n)] for _ in range(n)]\n",
    "    s = [[0 for _ in range(n)] for _ in range(n)]\n",
    "\n",
    "    for l in range(1, n):\n",
    "        for i in range(n - l):\n",
    "            j = i + l\n",
    "            dp[i][j] = float('inf')\n",
    "            for k in range(i, j):\n",
    "                cost = dp[i][k] + dp[k+1][j] + dimensions[i]*dimensions[k+1]*dimensions[j+1]\n",
    "                if cost < dp[i][j]:\n",
    "                    dp[i][j] = cost\n",
    "                    s[i][j] = k\n",
    "\n",
    "    return dp, s\n",
    "\n",
    "\n",
    "def print_optimal_parens(s, i, j):\n",
    "    if i == j:\n",
    "        print(f\"A_{i+1}\", end=\"\")\n",
    "    else:\n",
    "        print(\"(\", end=\"\")\n",
    "        print_optimal_parens(s, i, s[i][j])\n",
    "        print_optimal_parens(s, s[i][j] + 1, j)\n",
    "        print(\")\", end=\"\")\n",
    "\n",
    "\n",
    "# Test the algorithm\n",
    "dimensions = [10, 20, 30, 40, 50, 40, 10, 50, 20]\n",
    "dp, s = chain_matrix_multiplication(dimensions)\n",
    "print(\"Minimum number of operations:\", dp[0][-1])\n",
    "print(\"Optimal order of multiplications:\")\n",
    "print_optimal_parens(s, 0, len(dimensions) - 2)\n"
   ],
   "metadata": {
    "collapsed": false
   }
  },
  {
   "cell_type": "code",
   "execution_count": 6,
   "outputs": [
    {
     "name": "stdout",
     "output_type": "stream",
     "text": [
      "Test with 4 matrices:\n",
      "Dimensions: [72, 43, 14, 36, 16]\n",
      "Minimum number of operations: 67232\n",
      "Optimal order of multiplications:\n",
      "(A_1(A_2(A_3A_4)))\n",
      "\n",
      "Test with 5 matrices:\n",
      "Dimensions: [77, 20, 15, 45, 28, 7]\n",
      "Minimum number of operations: 26425\n",
      "Optimal order of multiplications:\n",
      "(A_1(A_2(A_3(A_4A_5))))\n",
      "\n",
      "Test with 6 matrices:\n",
      "Dimensions: [48, 89, 9, 19, 31, 59, 2]\n",
      "Minimum number of operations: 15324\n",
      "Optimal order of multiplications:\n",
      "(A_1(A_2(A_3(A_4(A_5A_6)))))\n",
      "\n",
      "Test with 7 matrices:\n",
      "Dimensions: [14, 34, 49, 39, 56, 32, 17, 27]\n",
      "Minimum number of operations: 119784\n",
      "Optimal order of multiplications:\n",
      "((((((A_1A_2)A_3)A_4)A_5)A_6)A_7)\n",
      "\n",
      "Test with 8 matrices:\n",
      "Dimensions: [38, 12, 97, 63, 94, 64, 88, 94, 36]\n",
      "Minimum number of operations: 440460\n",
      "Optimal order of multiplications:\n",
      "(A_1((((((A_2A_3)A_4)A_5)A_6)A_7)A_8))\n",
      "\n",
      "Test with 9 matrices:\n",
      "Dimensions: [87, 43, 67, 69, 90, 5, 80, 11, 93, 54]\n",
      "Minimum number of operations: 145390\n",
      "Optimal order of multiplications:\n",
      "((A_1(A_2(A_3(A_4A_5))))(((A_6A_7)A_8)A_9))\n",
      "\n"
     ]
    }
   ],
   "source": [
    "import random\n",
    "\n",
    "def generate_random_dimensions(size):\n",
    "    dimensions = []\n",
    "    for _ in range(size + 1):\n",
    "        dimensions.append(random.randint(1, 100))\n",
    "    return dimensions\n",
    "\n",
    "def test_chain_matrix_multiplication_range(sizes):\n",
    "    for size in sizes:\n",
    "        dimensions = generate_random_dimensions(size)\n",
    "        dp, s = chain_matrix_multiplication(dimensions)\n",
    "        print(f\"Test with {size} matrices:\")\n",
    "        print(f\"Dimensions: {dimensions}\")\n",
    "        print(f\"Minimum number of operations: {dp[0][-1]}\")\n",
    "        print(\"Optimal order of multiplications:\")\n",
    "        print_optimal_parens(s, 0, len(dimensions) - 2)\n",
    "        print(\"\\n\")\n",
    "\n",
    "sizes = [4, 5, 6, 7, 8, 9]\n",
    "test_chain_matrix_multiplication_range(sizes)\n"
   ],
   "metadata": {
    "collapsed": false
   }
  },
  {
   "cell_type": "code",
   "execution_count": null,
   "outputs": [],
   "source": [],
   "metadata": {
    "collapsed": false
   }
  }
 ],
 "metadata": {
  "kernelspec": {
   "display_name": "Python 3",
   "language": "python",
   "name": "python3"
  },
  "language_info": {
   "codemirror_mode": {
    "name": "ipython",
    "version": 2
   },
   "file_extension": ".py",
   "mimetype": "text/x-python",
   "name": "python",
   "nbconvert_exporter": "python",
   "pygments_lexer": "ipython2",
   "version": "2.7.6"
  }
 },
 "nbformat": 4,
 "nbformat_minor": 0
}
