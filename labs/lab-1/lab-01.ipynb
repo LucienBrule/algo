{
 "cells": [
  {
   "cell_type": "markdown",
   "metadata": {
    "collapsed": false
   },
   "source": [
    "# Lab 1: Fibonacci Series\n",
    "**Due Date** Wed 1/18/23 @ 8:00am\n",
    "**Author** Lucien Brule <brulel@rpi.edu>"
   ]
  },
  {
   "attachments": {},
   "cell_type": "markdown",
   "metadata": {
    "collapsed": false
   },
   "source": [
    "## Grading:\n",
    "\n",
    "Python Implementation and Submission Requirements for Lab Grading\n",
    "- Your code must be implemented in Python.\n",
    "- To get full credit you must:\n",
    "    - show your code\n",
    "    - show your output\n",
    "    - show your plots\n",
    "- to the TA and/or the undergrad mentors.\n",
    "- Make sure that your grade is recorded in the official sheet.\n",
    "- The lab will be graded according to the rubric outlined on the syllabus.\n",
    "- Do not submit your code via email or any other means to the TA/mentors. It will be ignored."
   ]
  },
  {
   "cell_type": "code",
   "execution_count": 27,
   "metadata": {},
   "outputs": [
    {
     "name": "stdout",
     "output_type": "stream",
     "text": [
      "Requirement already satisfied: numpy in /opt/homebrew/lib/python3.11/site-packages (1.24.1)\n",
      "Requirement already satisfied: matplotlib in /opt/homebrew/lib/python3.11/site-packages (3.6.3)\n",
      "Requirement already satisfied: contourpy>=1.0.1 in /opt/homebrew/lib/python3.11/site-packages (from matplotlib) (1.0.7)\n",
      "Requirement already satisfied: cycler>=0.10 in /opt/homebrew/lib/python3.11/site-packages (from matplotlib) (0.11.0)\n",
      "Requirement already satisfied: fonttools>=4.22.0 in /opt/homebrew/lib/python3.11/site-packages (from matplotlib) (4.38.0)\n",
      "Requirement already satisfied: kiwisolver>=1.0.1 in /opt/homebrew/lib/python3.11/site-packages (from matplotlib) (1.4.4)\n",
      "Requirement already satisfied: packaging>=20.0 in /Users/developer/Library/Python/3.11/lib/python/site-packages (from matplotlib) (23.0)\n",
      "Requirement already satisfied: pillow>=6.2.0 in /opt/homebrew/lib/python3.11/site-packages (from matplotlib) (9.4.0)\n",
      "Requirement already satisfied: pyparsing>=2.2.1 in /opt/homebrew/lib/python3.11/site-packages (from matplotlib) (3.0.9)\n",
      "Requirement already satisfied: python-dateutil>=2.7 in /Users/developer/Library/Python/3.11/lib/python/site-packages (from matplotlib) (2.8.2)\n",
      "Requirement already satisfied: six>=1.5 in /Users/developer/Library/Python/3.11/lib/python/site-packages (from python-dateutil>=2.7->matplotlib) (1.16.0)\n",
      "Note: you may need to restart the kernel to use updated packages.\n"
     ]
    }
   ],
   "source": [
    "import sys\n",
    "%pip install numpy matplotlib\n",
    "import matplotlib.pyplot as plt\n",
    "import numpy as np"
   ]
  },
  {
   "cell_type": "code",
   "execution_count": 28,
   "metadata": {},
   "outputs": [],
   "source": [
    "sys.set_int_max_str_digits(0)"
   ]
  },
  {
   "cell_type": "markdown",
   "metadata": {
    "collapsed": false
   },
   "source": [
    "## Part 1: Implementing and Comparing Recursive and Iterative Fibonacci Numbers\n"
   ]
  },
  {
   "cell_type": "code",
   "execution_count": 29,
   "metadata": {},
   "outputs": [],
   "source": [
    "import time\n",
    "import numpy as np\n",
    "\n",
    "def time_fib(f,n):\n",
    "    results = {\n",
    "        \"start\": None,\n",
    "        \"end\": None,\n",
    "        \"time\": None,\n",
    "        \"fib\": None\n",
    "    }\n",
    "\n",
    "    results[\"start\"] = time.time()\n",
    "\n",
    "    results[\"fib\"] = f(n)\n",
    "\n",
    "    results[\"end\"] = time.time()\n",
    "\n",
    "    results[\"time\"] = results[\"end\"] - results[\"start\"]\n",
    "\n",
    "    return results\n"
   ]
  },
  {
   "cell_type": "code",
   "execution_count": 30,
   "metadata": {
    "collapsed": false
   },
   "outputs": [
    {
     "data": {
      "text/plain": [
       "{'start': 1674008362.834777,\n",
       " 'end': 1674008362.835517,\n",
       " 'time': 0.0007398128509521484,\n",
       " 'fib': 4181}"
      ]
     },
     "execution_count": 30,
     "metadata": {},
     "output_type": "execute_result"
    }
   ],
   "source": [
    "def fib1(n):\n",
    "    if n == 0:\n",
    "        return 0\n",
    "    elif n == 1:\n",
    "        return 1\n",
    "    else:\n",
    "        return fib1(n-1) + fib1(n-2)\n",
    "\n",
    "# call fib1\n",
    "time_fib(fib1, 19)\n"
   ]
  },
  {
   "cell_type": "code",
   "execution_count": 31,
   "metadata": {},
   "outputs": [
    {
     "data": {
      "text/plain": [
       "{'start': 1674008364.1266298,\n",
       " 'end': 1674008364.126635,\n",
       " 'time': 5.245208740234375e-06,\n",
       " 'fib': 4181}"
      ]
     },
     "execution_count": 31,
     "metadata": {},
     "output_type": "execute_result"
    }
   ],
   "source": [
    "def fib2(n):\n",
    "    if n == 0:\n",
    "        return 0\n",
    "    elif n == 1:\n",
    "        return 1\n",
    "    a = 0\n",
    "    b = 1\n",
    "    for i in range(2, n+1):\n",
    "        c = a + b\n",
    "        a = b\n",
    "        b = c\n",
    "    return c\n",
    "\n",
    "# call fib 2\n",
    "time_fib(fib2, 19)"
   ]
  },
  {
   "cell_type": "code",
   "execution_count": 32,
   "metadata": {},
   "outputs": [],
   "source": [
    "# higher order function that memoizes the result of a function\n",
    "def memoize(f):\n",
    "    memo = {}\n",
    "    def helper(x):\n",
    "        if x not in memo:\n",
    "            memo[x] = f(x)\n",
    "        return memo[x]\n",
    "    return helper"
   ]
  },
  {
   "cell_type": "code",
   "execution_count": 33,
   "metadata": {},
   "outputs": [
    {
     "data": {
      "text/plain": [
       "{'start': 1674008365.882565,\n",
       " 'end': 1674008365.8833358,\n",
       " 'time': 0.0007708072662353516,\n",
       " 'fib': 4181}"
      ]
     },
     "execution_count": 33,
     "metadata": {},
     "output_type": "execute_result"
    }
   ],
   "source": [
    "# memoize fib1\n",
    "fib1_memo = memoize(fib1)\n",
    "time_fib(fib1_memo, 19)"
   ]
  },
  {
   "cell_type": "code",
   "execution_count": 34,
   "metadata": {},
   "outputs": [
    {
     "data": {
      "text/plain": [
       "{'start': 1674008366.7889469,\n",
       " 'end': 1674008366.78895,\n",
       " 'time': 3.0994415283203125e-06,\n",
       " 'fib': 4181}"
      ]
     },
     "execution_count": 34,
     "metadata": {},
     "output_type": "execute_result"
    }
   ],
   "source": [
    "# memoize fib2\n",
    "fib2_memo = memoize(fib2)\n",
    "time_fib(fib2_memo, 19)"
   ]
  },
  {
   "attachments": {},
   "cell_type": "markdown",
   "metadata": {},
   "source": [
    "hashmaps man.. crazy."
   ]
  },
  {
   "cell_type": "code",
   "execution_count": 35,
   "metadata": {},
   "outputs": [
    {
     "data": {
      "text/plain": [
       "{'start': 1674008369.040033,\n",
       " 'end': 1674008369.0400388,\n",
       " 'time': 5.7220458984375e-06,\n",
       " 'fib': 4181}"
      ]
     },
     "execution_count": 35,
     "metadata": {},
     "output_type": "execute_result"
    }
   ],
   "source": [
    "known_fibs = {0: 0, 1: 1}\n",
    "def fib3(n):\n",
    "    if n not in known_fibs:\n",
    "        known_fibs[n] = fib3(n-1) + fib3(n-2)\n",
    "    return known_fibs[n]\n",
    "\n",
    "time_fib(fib3, 19)"
   ]
  },
  {
   "cell_type": "code",
   "execution_count": 36,
   "metadata": {},
   "outputs": [
    {
     "data": {
      "text/plain": [
       "{'start': 1674008370.124565,\n",
       " 'end': 1674008370.124585,\n",
       " 'time': 2.002716064453125e-05,\n",
       " 'fib': 354224848179261915075}"
      ]
     },
     "execution_count": 36,
     "metadata": {},
     "output_type": "execute_result"
    }
   ],
   "source": [
    "time_fib(fib3, 100)"
   ]
  },
  {
   "cell_type": "markdown",
   "metadata": {
    "collapsed": false
   },
   "source": [
    "## Part 2: Verification of Time Complexity for Iterative Fibonacci Algorithm (fib2)\n",
    "\n",
    "method: Measuring Execution Time on Increasing Inputs"
   ]
  },
  {
   "cell_type": "code",
   "execution_count": 40,
   "metadata": {},
   "outputs": [
    {
     "name": "stdout",
     "output_type": "stream",
     "text": [
      "[1024, 4096, 16384, 65536, 262144, 524288, 1048576, 2097152, 4194304]\n"
     ]
    }
   ],
   "source": [
    "import json\n",
    "test_cases = list(map(lambda x: 2**x,[10,12,14,16,18,19,20,21,22]))\n",
    "# test_cases = list(map(lambda x: 2**x,[1,2,3,4,5,6]))\n",
    "\n",
    "print(json.dumps(test_cases))"
   ]
  },
  {
   "attachments": {},
   "cell_type": "markdown",
   "metadata": {},
   "source": [
    "## Time the results\n",
    "\n",
    "This took approximately 4m30s on a M1 Pro"
   ]
  },
  {
   "cell_type": "code",
   "execution_count": 41,
   "metadata": {},
   "outputs": [
    {
     "name": "stdout",
     "output_type": "stream",
     "text": [
      "n:  1024\n",
      "n:  4096\n",
      "n:  16384\n",
      "n:  65536\n",
      "n:  262144\n",
      "n:  524288\n",
      "n:  1048576\n",
      "n:  2097152\n",
      "n:  4194304\n"
     ]
    }
   ],
   "source": [
    "time_results = []\n",
    "for n in test_cases:\n",
    "    print(\"n: \", n)\n",
    "    # print(\"fib1: \", time_fib(fib1, n, False))\n",
    "    # print(\"fib2: \", time_fib(fib2, n, False))\n",
    "    # print(\"fib1_memo: \", time_fib(fib1_memo, n, False))\n",
    "    # print(\"fib2_memo: \", time_fib(fib2_memo, n, False))\n",
    "    time_results.append(time_fib(fib2_memo,n))\n",
    "\n",
    "    # print(\"fib3: \", time_fib(fib3, n, False))"
   ]
  },
  {
   "cell_type": "code",
   "execution_count": 64,
   "metadata": {},
   "outputs": [
    {
     "name": "stderr",
     "output_type": "stream",
     "text": [
      "/var/folders/0v/5jh16t7j7_zfd7pcz8cs7tjc0000gn/T/ipykernel_3349/1467361369.py:13: MatplotlibDeprecationWarning: The 'b' parameter of grid() has been renamed 'visible' since Matplotlib 3.5; support for the old name will be dropped two minor releases later.\n",
      "  plt.grid(b=True, which='major', color='#666666', linestyle='-')\n"
     ]
    },
    {
     "data": {
      "text/plain": [
       "[<matplotlib.lines.Line2D at 0x16e9989d0>]"
      ]
     },
     "execution_count": 64,
     "metadata": {},
     "output_type": "execute_result"
    },
    {
     "data": {
      "image/png": "[encoded data removed]",
      "text/plain": [
       "<Figure size 640x480 with 1 Axes>"
      ]
     },
     "metadata": {},
     "output_type": "display_data"
    }
   ],
   "source": [
    "# graph the results, x-axis is n, y-axis is time\n",
    "plt.style.use('dark_background')\n",
    "\n",
    "fig, ax = plt.subplots()\n",
    "ax.set_xticks(test_cases)\n",
    "ax.set_xticklabels(test_cases)\n",
    "ax.set_xscale('log')\n",
    "# draw dots on the graph for each test case\n",
    "plt.scatter(test_cases, list(map(lambda x: x[\"time\"], time_results)), color='red')\n",
    "\n",
    "\n",
    "# Show grid lines\n",
    "plt.grid(b=True, which='major', color='#666666', linestyle='-')\n",
    "\n",
    "\n",
    "\n",
    "plt.xlabel('n (size of input)')\n",
    "plt.ylabel('Time (s)')\n",
    "# dark background\n",
    "plt.title('Fibonacci Time Complexity (fib2_memo)')\n",
    "plt.plot(test_cases, list(map(lambda x: x[\"time\"], time_results)),color='red')"
   ]
  },
  {
   "cell_type": "code",
   "execution_count": 65,
   "metadata": {},
   "outputs": [
    {
     "name": "stdout",
     "output_type": "stream",
     "text": [
      "n:  2\n",
      "n:  32\n",
      "n:  1024\n"
     ]
    },
    {
     "ename": "KeyboardInterrupt",
     "evalue": "",
     "output_type": "error",
     "traceback": [
      "\u001b[0;31m---------------------------------------------------------------------------\u001b[0m",
      "\u001b[0;31mKeyboardInterrupt\u001b[0m                         Traceback (most recent call last)",
      "Cell \u001b[0;32mIn[65], line 6\u001b[0m\n\u001b[1;32m      4\u001b[0m \u001b[39mfor\u001b[39;00m n \u001b[39min\u001b[39;00m test_cases:\n\u001b[1;32m      5\u001b[0m     \u001b[39mprint\u001b[39m(\u001b[39m\"\u001b[39m\u001b[39mn: \u001b[39m\u001b[39m\"\u001b[39m, n)\n\u001b[0;32m----> 6\u001b[0m     time_results\u001b[39m.\u001b[39mappend(time_fib(fib1_memo,n))\n",
      "Cell \u001b[0;32mIn[29], line 14\u001b[0m, in \u001b[0;36mtime_fib\u001b[0;34m(f, n)\u001b[0m\n\u001b[1;32m      5\u001b[0m results \u001b[39m=\u001b[39m {\n\u001b[1;32m      6\u001b[0m     \u001b[39m\"\u001b[39m\u001b[39mstart\u001b[39m\u001b[39m\"\u001b[39m: \u001b[39mNone\u001b[39;00m,\n\u001b[1;32m      7\u001b[0m     \u001b[39m\"\u001b[39m\u001b[39mend\u001b[39m\u001b[39m\"\u001b[39m: \u001b[39mNone\u001b[39;00m,\n\u001b[1;32m      8\u001b[0m     \u001b[39m\"\u001b[39m\u001b[39mtime\u001b[39m\u001b[39m\"\u001b[39m: \u001b[39mNone\u001b[39;00m,\n\u001b[1;32m      9\u001b[0m     \u001b[39m\"\u001b[39m\u001b[39mfib\u001b[39m\u001b[39m\"\u001b[39m: \u001b[39mNone\u001b[39;00m\n\u001b[1;32m     10\u001b[0m }\n\u001b[1;32m     12\u001b[0m results[\u001b[39m\"\u001b[39m\u001b[39mstart\u001b[39m\u001b[39m\"\u001b[39m] \u001b[39m=\u001b[39m time\u001b[39m.\u001b[39mtime()\n\u001b[0;32m---> 14\u001b[0m results[\u001b[39m\"\u001b[39m\u001b[39mfib\u001b[39m\u001b[39m\"\u001b[39m] \u001b[39m=\u001b[39m f(n)\n\u001b[1;32m     16\u001b[0m results[\u001b[39m\"\u001b[39m\u001b[39mend\u001b[39m\u001b[39m\"\u001b[39m] \u001b[39m=\u001b[39m time\u001b[39m.\u001b[39mtime()\n\u001b[1;32m     18\u001b[0m results[\u001b[39m\"\u001b[39m\u001b[39mtime\u001b[39m\u001b[39m\"\u001b[39m] \u001b[39m=\u001b[39m results[\u001b[39m\"\u001b[39m\u001b[39mend\u001b[39m\u001b[39m\"\u001b[39m] \u001b[39m-\u001b[39m results[\u001b[39m\"\u001b[39m\u001b[39mstart\u001b[39m\u001b[39m\"\u001b[39m]\n",
      "Cell \u001b[0;32mIn[32], line 6\u001b[0m, in \u001b[0;36mmemoize.<locals>.helper\u001b[0;34m(x)\u001b[0m\n\u001b[1;32m      4\u001b[0m \u001b[39mdef\u001b[39;00m \u001b[39mhelper\u001b[39m(x):\n\u001b[1;32m      5\u001b[0m     \u001b[39mif\u001b[39;00m x \u001b[39mnot\u001b[39;00m \u001b[39min\u001b[39;00m memo:\n\u001b[0;32m----> 6\u001b[0m         memo[x] \u001b[39m=\u001b[39m f(x)\n\u001b[1;32m      7\u001b[0m     \u001b[39mreturn\u001b[39;00m memo[x]\n",
      "Cell \u001b[0;32mIn[30], line 7\u001b[0m, in \u001b[0;36mfib1\u001b[0;34m(n)\u001b[0m\n\u001b[1;32m      5\u001b[0m     \u001b[39mreturn\u001b[39;00m \u001b[39m1\u001b[39m\n\u001b[1;32m      6\u001b[0m \u001b[39melse\u001b[39;00m:\n\u001b[0;32m----> 7\u001b[0m     \u001b[39mreturn\u001b[39;00m fib1(n\u001b[39m-\u001b[39;49m\u001b[39m1\u001b[39;49m) \u001b[39m+\u001b[39m fib1(n\u001b[39m-\u001b[39m\u001b[39m2\u001b[39m)\n",
      "Cell \u001b[0;32mIn[30], line 7\u001b[0m, in \u001b[0;36mfib1\u001b[0;34m(n)\u001b[0m\n\u001b[1;32m      5\u001b[0m     \u001b[39mreturn\u001b[39;00m \u001b[39m1\u001b[39m\n\u001b[1;32m      6\u001b[0m \u001b[39melse\u001b[39;00m:\n\u001b[0;32m----> 7\u001b[0m     \u001b[39mreturn\u001b[39;00m fib1(n\u001b[39m-\u001b[39;49m\u001b[39m1\u001b[39;49m) \u001b[39m+\u001b[39m fib1(n\u001b[39m-\u001b[39m\u001b[39m2\u001b[39m)\n",
      "    \u001b[0;31m[... skipping similar frames: fib1 at line 7 (1003 times)]\u001b[0m\n",
      "Cell \u001b[0;32mIn[30], line 7\u001b[0m, in \u001b[0;36mfib1\u001b[0;34m(n)\u001b[0m\n\u001b[1;32m      5\u001b[0m     \u001b[39mreturn\u001b[39;00m \u001b[39m1\u001b[39m\n\u001b[1;32m      6\u001b[0m \u001b[39melse\u001b[39;00m:\n\u001b[0;32m----> 7\u001b[0m     \u001b[39mreturn\u001b[39;00m fib1(n\u001b[39m-\u001b[39;49m\u001b[39m1\u001b[39;49m) \u001b[39m+\u001b[39m fib1(n\u001b[39m-\u001b[39m\u001b[39m2\u001b[39m)\n",
      "Cell \u001b[0;32mIn[30], line 1\u001b[0m, in \u001b[0;36mfib1\u001b[0;34m(n)\u001b[0m\n\u001b[0;32m----> 1\u001b[0m \u001b[39mdef\u001b[39;00m \u001b[39mfib1\u001b[39m(n):\n\u001b[1;32m      2\u001b[0m     \u001b[39mif\u001b[39;00m n \u001b[39m==\u001b[39m \u001b[39m0\u001b[39m:\n\u001b[1;32m      3\u001b[0m         \u001b[39mreturn\u001b[39;00m \u001b[39m0\u001b[39m\n",
      "\u001b[0;31mKeyboardInterrupt\u001b[0m: "
     ]
    }
   ],
   "source": [
    "time_results = []\n",
    "test_cases = list(map(lambda x: 2**x,[1, 5, 10, 15, 20, 25, 30, 35, 40, 41, 42, 43]))\n",
    "\n",
    "for n in test_cases:\n",
    "    print(\"n: \", n)\n",
    "    time_results.append(time_fib(fib1_memo,n))\n",
    "\n",
    "\n",
    "\n"
   ]
  },
  {
   "cell_type": "code",
   "execution_count": null,
   "metadata": {},
   "outputs": [],
   "source": [
    "fig, ax = plt.subplots()\n",
    "ax.set_xticks(test_cases)\n",
    "ax.set_xticklabels(test_cases)\n",
    "ax.set_xscale('log')\n",
    "# draw dots on the graph for each test case\n",
    "plt.scatter(test_cases, list(map(lambda x: x[\"time\"], time_results)), color='red')\n",
    "\n",
    "\n",
    "# Show grid lines\n",
    "plt.grid(b=True, which='major', color='#666666', linestyle='-')\n",
    "\n",
    "\n",
    "\n",
    "plt.xlabel('n (size of input)')\n",
    "plt.ylabel('Time (s)')\n",
    "# dark background\n",
    "plt.title('Fibonacci Time Complexity (fib2_memo)')\n",
    "plt.plot(test_cases, list(map(lambda x: x[\"time\"], time_results)),color='red')"
   ]
  }
 ],
 "metadata": {
  "kernelspec": {
   "display_name": "Python 3",
   "language": "python",
   "name": "python3"
  },
  "language_info": {
   "codemirror_mode": {
    "name": "ipython",
    "version": 3
   },
   "file_extension": ".py",
   "mimetype": "text/x-python",
   "name": "python",
   "nbconvert_exporter": "python",
   "pygments_lexer": "ipython3",
   "version": "3.11.1 (main, Dec 23 2022, 09:25:23) [Clang 14.0.0 (clang-1400.0.29.202)]"
  },
  "vscode": {
   "interpreter": {
    "hash": "5c7b89af1651d0b8571dde13640ecdccf7d5a6204171d6ab33e7c296e100e08a"
   }
  }
 },
 "nbformat": 4,
 "nbformat_minor": 0
}
