{
 "cells": [
  {
   "cell_type": "code",
   "execution_count": 2,
   "metadata": {},
   "outputs": [],
   "source": [
    "def bar(n):\n",
    "    print(\"*\")\n",
    "    if n == 0:\n",
    "        return\n",
    "    for i in range(n):\n",
    "        bar(i)"
   ]
  },
  {
   "cell_type": "code",
   "execution_count": 3,
   "metadata": {},
   "outputs": [],
   "source": [
    "# bar_debug, wraps bar, prints the arguments and return value of bar, prints n tabs before the * to visualize the recursion\n",
    "# Path: hw/hw1.ipynb\n",
    "\n",
    "def bar_debug(n):\n",
    "    print(\"\\t\"*n + \"*\" + str(n))\n",
    "    if n == 0:\n",
    "        return\n",
    "    for i in range(n):\n",
    "        bar_debug(i)  "
   ]
  },
  {
   "cell_type": "code",
   "execution_count": 4,
   "metadata": {},
   "outputs": [
    {
     "name": "stdout",
     "output_type": "stream",
     "text": [
      "\t\t\t*3\n",
      "*0\n",
      "\t*1\n",
      "*0\n",
      "\t\t*2\n",
      "*0\n",
      "\t*1\n",
      "*0\n"
     ]
    }
   ],
   "source": [
    "# call bar_debug with n = 3\n",
    "bar_debug(3)"
   ]
  },
  {
   "cell_type": "code",
   "execution_count": 5,
   "metadata": {},
   "outputs": [
    {
     "name": "stdout",
     "output_type": "stream",
     "text": [
      "*\n",
      "*\n",
      "*\n",
      "*\n",
      "*\n",
      "*\n",
      "*\n",
      "*\n"
     ]
    }
   ],
   "source": [
    "bar(3)"
   ]
  },
  {
   "cell_type": "code",
   "execution_count": 6,
   "metadata": {},
   "outputs": [
    {
     "name": "stdout",
     "output_type": "stream",
     "text": [
      "*\n",
      "*\n"
     ]
    }
   ],
   "source": [
    "bar(1)"
   ]
  },
  {
   "cell_type": "code",
   "execution_count": 7,
   "metadata": {},
   "outputs": [
    {
     "name": "stdout",
     "output_type": "stream",
     "text": [
      "*\n",
      "*\n",
      "*\n",
      "*\n"
     ]
    }
   ],
   "source": [
    "bar(2)"
   ]
  },
  {
   "cell_type": "code",
   "execution_count": 8,
   "metadata": {},
   "outputs": [
    {
     "name": "stdout",
     "output_type": "stream",
     "text": [
      "*\n",
      "*\n",
      "*\n",
      "*\n",
      "*\n",
      "*\n",
      "*\n",
      "*\n"
     ]
    }
   ],
   "source": [
    "bar(3)"
   ]
  },
  {
   "cell_type": "code",
   "execution_count": 9,
   "metadata": {},
   "outputs": [
    {
     "name": "stdout",
     "output_type": "stream",
     "text": [
      "*\n",
      "*\n",
      "*\n",
      "*\n",
      "*\n",
      "*\n",
      "*\n",
      "*\n",
      "*\n",
      "*\n",
      "*\n",
      "*\n",
      "*\n",
      "*\n",
      "*\n",
      "*\n"
     ]
    }
   ],
   "source": [
    "bar(4)"
   ]
  },
  {
   "cell_type": "code",
   "execution_count": null,
   "metadata": {},
   "outputs": [],
   "source": [
    "\n",
    "\n"
   ]
  },
  {
   "cell_type": "code",
   "execution_count": 10,
   "metadata": {},
   "outputs": [
    {
     "name": "stdout",
     "output_type": "stream",
     "text": [
      "---0---\n"
     ]
    },
    {
     "ename": "NameError",
     "evalue": "name 'number_bar' is not defined",
     "output_type": "error",
     "traceback": [
      "\u001b[0;31m---------------------------------------------------------------------------\u001b[0m",
      "\u001b[0;31mNameError\u001b[0m                                 Traceback (most recent call last)",
      "Cell \u001b[0;32mIn[10], line 3\u001b[0m\n\u001b[1;32m      1\u001b[0m \u001b[39mfor\u001b[39;00m i \u001b[39min\u001b[39;00m \u001b[39mrange\u001b[39m(\u001b[39m4\u001b[39m):\n\u001b[1;32m      2\u001b[0m     \u001b[39mprint\u001b[39m(\u001b[39m\"\u001b[39m\u001b[39m---\u001b[39m\u001b[39m\"\u001b[39m \u001b[39m+\u001b[39m \u001b[39mstr\u001b[39m(i) \u001b[39m+\u001b[39m \u001b[39m\"\u001b[39m\u001b[39m---\u001b[39m\u001b[39m\"\u001b[39m)\n\u001b[0;32m----> 3\u001b[0m     number_bar(i)\n",
      "\u001b[0;31mNameError\u001b[0m: name 'number_bar' is not defined"
     ]
    }
   ],
   "source": [
    "for i in range(4):\n",
    "    print(\"---\" + str(i) + \"---\")\n",
    "    number_bar(i)"
   ]
  },
  {
   "cell_type": "code",
   "execution_count": null,
   "metadata": {},
   "outputs": [],
   "source": [
    "# we get the same output as before, but now we can see the recursion\n",
    "# the reason why it prints 8 starts \n",
    "# The reccurance relation is T(n) = 2T(n-1) + 1\n",
    "\n",
    "# The base case is T(0) = 1\n",
    "# The recurrence relation is T(n) = 2T(n-1) + 1\n",
    "# The solution is T(n) = 2^n - 1\n"
   ]
  },
  {
   "cell_type": "code",
   "execution_count": null,
   "metadata": {},
   "outputs": [],
   "source": [
    "# The following is a prompt for chatGPT-3 that will induce it to generate a response\n",
    "# containing the python of bar(n), a proof by induction that the number of stars printed is 2^n\n",
    "\n",
    "prompt = \"Generate a python function that prints n stars, where n is an integer. Prove by induction that the number of stars printed is 2^n.\""
   ]
  },
  {
   "cell_type": "code",
   "execution_count": null,
   "metadata": {},
   "outputs": [],
   "source": []
  },
  {
   "attachments": {},
   "cell_type": "markdown",
   "metadata": {},
   "source": [
    "# Homework 1\n",
    "\n",
    "To prove that max(f(n),g(n))= θ(f(n)+g(n)), we need to show that there exist positive constants c1, c2, n0 such that for all n >= n0, c1 * (f(n) + g(n)) <= max(f(n), g(n)) <= c2 * (f(n) + g(n)).\n",
    " \n",
    "Since f(n) and g(n) are asymptotically nonnegative, we know that f(n) >= 0 and g(n) >= 0 for all n >= n0.\n",
    " \n",
    "Now, let's consider the upper bound:\n",
    "max(f(n), g(n)) <= f(n) + g(n)\n",
    " \n",
    "This is true because if we take the maximum of two nonnegative numbers, we can always add them together and the result will be greater than or equal to the maximum.\n",
    " \n",
    "For the lower bound,\n",
    "f(n) <= max(f(n), g(n)) and g(n) <= max(f(n), g(n))\n",
    " \n",
    "Adding the above two inequalities\n",
    "f(n) + g(n) <= 2 * max(f(n), g(n))\n",
    "c1 * (f(n) + g(n)) <= max(f(n), g(n)) <= c2 * (f(n) + g(n))\n",
    "because c1 and c2 are positive:\n",
    "c1 * (f(n) + g(n)) <= c2*max(f(n), g(n))\n",
    "f(n) + g(n) <= 2 * max(f(n), g(n))\n",
    "1/2*(f(n) + g(n)) <= 1 * max(f(n), g(n))\n",
    "c1 = 1/2, c2 = 1\n",
    " \n",
    "Thus we have shown that there exist positive constants c1=1/2, c2=1, n0 such that for all n >= n0, 1/2 * (f(n) + g(n)) <= max(f(n), g(n)) <= (f(n) + g(n))\n",
    " \n",
    "Therefore, max(f(n),g(n))= θ(f(n)+g(n))\n",
    "\n",
    "---\n",
    "\n",
    "c1 * (f(n) + g(n)) <= max(f(n), g(n)) <= c2 * (f(n) + g(n))                   ^\n"
   ]
  }
 ],
 "metadata": {
  "kernelspec": {
   "display_name": "Python 3",
   "language": "python",
   "name": "python3"
  },
  "language_info": {
   "codemirror_mode": {
    "name": "ipython",
    "version": 3
   },
   "file_extension": ".py",
   "mimetype": "text/x-python",
   "name": "python",
   "nbconvert_exporter": "python",
   "pygments_lexer": "ipython3",
   "version": "3.11.1"
  },
  "orig_nbformat": 4,
  "vscode": {
   "interpreter": {
    "hash": "5c7b89af1651d0b8571dde13640ecdccf7d5a6204171d6ab33e7c296e100e08a"
   }
  }
 },
 "nbformat": 4,
 "nbformat_minor": 2
}
